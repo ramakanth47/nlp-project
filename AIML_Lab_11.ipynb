{
  "cells": [
    {
      "cell_type": "markdown",
      "metadata": {
        "id": "view-in-github",
        "colab_type": "text"
      },
      "source": [
        "<a href=\"https://colab.research.google.com/github/anujsaxena/AIML/blob/main/AIML_Lab_11.ipynb\" target=\"_parent\"><img src=\"https://colab.research.google.com/assets/colab-badge.svg\" alt=\"Open In Colab\"/></a>"
      ]
    },
    {
      "cell_type": "markdown",
      "metadata": {
        "id": "r_7NNeVFfn98"
      },
      "source": [
        "# **Mounting Google Drive**"
      ]
    },
    {
      "cell_type": "code",
      "execution_count": null,
      "metadata": {
        "id": "7rFheB2ToMDX"
      },
      "outputs": [],
      "source": [
        "from google.colab import drive\n",
        "drive.mount('/content/gdrive')"
      ]
    },
    {
      "cell_type": "code",
      "execution_count": null,
      "metadata": {
        "id": "ucVhUhVHjBxa"
      },
      "outputs": [],
      "source": [
        "import os\n",
        "from os import listdir\n",
        "folder_dir = '/content/gdrive/MyDrive/Potato/Train'\n",
        "for images in os.listdir(folder_dir):\n",
        "  print(images)\n"
      ]
    },
    {
      "cell_type": "code",
      "execution_count": null,
      "metadata": {
        "id": "KtzT9EAWjx3i"
      },
      "outputs": [],
      "source": [
        "for images in os.listdir(folder_dir):\n",
        "  for img in os.listdir(folder_dir+\"/\"+images):\n",
        "    print(img)\n",
        "      "
      ]
    },
    {
      "cell_type": "code",
      "execution_count": null,
      "metadata": {
        "colab": {
          "background_save": true
        },
        "id": "mMn_x1jwk-a_"
      },
      "outputs": [],
      "source": [
        "from IPython.display import Image, display\n",
        "folder_dir = \"/content/gdrive/MyDrive/Potato/Test/\"\n",
        "for images in os.listdir(folder_dir):\n",
        "    for img in os.listdir(folder_dir+\"/\"+images):\n",
        "      im = folder_dir+\"/\"+images+ \"/\"+img\n",
        "      display(Image(im))"
      ]
    },
    {
      "cell_type": "code",
      "execution_count": null,
      "metadata": {
        "colab": {
          "background_save": true
        },
        "id": "7GnpVLmtmRhR"
      },
      "outputs": [],
      "source": [
        "from IPython.display import Image, display\n",
        "folder_dir = \"/content/gdrive/MyDrive/Potato/Valid/\"\n",
        "for images in os.listdir(folder_dir):\n",
        "    for img in os.listdir(folder_dir+\"/\"+images):\n",
        "      im = folder_dir+\"/\"+images+ \"/\"+img\n",
        "      display(Image(im))"
      ]
    }
  ],
  "metadata": {
    "colab": {
      "collapsed_sections": [],
      "name": "AIML_Lab_11.ipynb",
      "provenance": [],
      "authorship_tag": "ABX9TyM8pHVPkFug17ELATqyYjaC",
      "include_colab_link": true
    },
    "kernelspec": {
      "display_name": "Python 3",
      "name": "python3"
    },
    "language_info": {
      "name": "python"
    }
  },
  "nbformat": 4,
  "nbformat_minor": 0
}